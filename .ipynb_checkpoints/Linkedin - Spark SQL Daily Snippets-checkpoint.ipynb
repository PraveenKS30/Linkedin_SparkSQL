{
 "cells": [
  {
   "cell_type": "code",
   "execution_count": 29,
   "metadata": {},
   "outputs": [],
   "source": [
    "from pyspark.sql import SparkSession"
   ]
  },
  {
   "cell_type": "code",
   "execution_count": 30,
   "metadata": {},
   "outputs": [
    {
     "data": {
      "text/html": [
       "\n",
       "            <div>\n",
       "                <p><b>SparkSession - in-memory</b></p>\n",
       "                \n",
       "        <div>\n",
       "            <p><b>SparkContext</b></p>\n",
       "\n",
       "            <p><a href=\"http://LAPTOP-PP3JVFAK:4040\">Spark UI</a></p>\n",
       "\n",
       "            <dl>\n",
       "              <dt>Version</dt>\n",
       "                <dd><code>v2.4.0</code></dd>\n",
       "              <dt>Master</dt>\n",
       "                <dd><code>local[*]</code></dd>\n",
       "              <dt>AppName</dt>\n",
       "                <dd><code>readfiles</code></dd>\n",
       "            </dl>\n",
       "        </div>\n",
       "        \n",
       "            </div>\n",
       "        "
      ],
      "text/plain": [
       "<pyspark.sql.session.SparkSession at 0x221af214f98>"
      ]
     },
     "execution_count": 30,
     "metadata": {},
     "output_type": "execute_result"
    }
   ],
   "source": [
    "spark =  SparkSession\\\n",
    "        .builder\\\n",
    "        .appName('readfiles')\\\n",
    "        .getOrCreate()\n",
    "spark        "
   ]
  },
  {
   "cell_type": "code",
   "execution_count": 25,
   "metadata": {},
   "outputs": [
    {
     "name": "stdout",
     "output_type": "stream",
     "text": [
      "+--------+-------------+-----+\n",
      "|train_id|      station| time|\n",
      "+--------+-------------+-----+\n",
      "|     324|San Francisco|7:59a|\n",
      "|     324|  22nd Street|8:03a|\n",
      "|     324|     Millbrae|8:16a|\n",
      "|     324|    Hillsdale|8:24a|\n",
      "|     324| Redwood City|8:31a|\n",
      "|     324|    Palo Alto|8:37a|\n",
      "|     324|     San Jose|9:05a|\n",
      "|     217|       Gilroy|6:06a|\n",
      "|     217|   San Martin|6:15a|\n",
      "|     217|  Morgan Hill|6:21a|\n",
      "|     217| Blossom Hill|6:36a|\n",
      "|     217|      Capitol|6:42a|\n",
      "|     217|       Tamien|6:50a|\n",
      "|     217|     San Jose|6:59a|\n",
      "+--------+-------------+-----+\n",
      "\n"
     ]
    }
   ],
   "source": [
    "## read csv file\n",
    "df = spark.read.csv(\"train_schedule.csv\", header=True)\n",
    "df.show()"
   ]
  },
  {
   "cell_type": "code",
   "execution_count": 31,
   "metadata": {},
   "outputs": [
    {
     "name": "stdout",
     "output_type": "stream",
     "text": [
      "+--------+-------------+-----+\n",
      "|train_id|      station| time|\n",
      "+--------+-------------+-----+\n",
      "|     324|San Francisco|7:59a|\n",
      "|     324|  22nd Street|8:03a|\n",
      "|     324|     Millbrae|8:16a|\n",
      "|     324|    Hillsdale|8:24a|\n",
      "|     324| Redwood City|8:31a|\n",
      "|     324|    Palo Alto|8:37a|\n",
      "|     324|     San Jose|9:05a|\n",
      "|     217|       Gilroy|6:06a|\n",
      "|     217|   San Martin|6:15a|\n",
      "|     217|  Morgan Hill|6:21a|\n",
      "|     217| Blossom Hill|6:36a|\n",
      "|     217|      Capitol|6:42a|\n",
      "|     217|       Tamien|6:50a|\n",
      "|     217|     San Jose|6:59a|\n",
      "+--------+-------------+-----+\n",
      "\n"
     ]
    }
   ],
   "source": [
    "# Another way of reading same file\n",
    "df = spark.read.option(\"header\",\"True\").csv(\"train_schedule.csv\")\n",
    "df.show()"
   ]
  },
  {
   "cell_type": "markdown",
   "metadata": {},
   "source": [
    "### Spark provides this functionality of not to define and tries to automatically infer it"
   ]
  },
  {
   "cell_type": "code",
   "execution_count": 37,
   "metadata": {},
   "outputs": [
    {
     "name": "stdout",
     "output_type": "stream",
     "text": [
      "root\n",
      " |-- train_id: integer (nullable = true)\n",
      " |-- station: string (nullable = true)\n",
      " |-- time: string (nullable = true)\n",
      "\n"
     ]
    }
   ],
   "source": [
    "df = spark.read.csv(\"train_schedule.csv\", header = True, inferSchema = True)\n",
    "df.printSchema()"
   ]
  },
  {
   "cell_type": "code",
   "execution_count": null,
   "metadata": {},
   "outputs": [],
   "source": []
  }
 ],
 "metadata": {
  "kernelspec": {
   "display_name": "Python 3",
   "language": "python",
   "name": "python3"
  },
  "language_info": {
   "codemirror_mode": {
    "name": "ipython",
    "version": 3
   },
   "file_extension": ".py",
   "mimetype": "text/x-python",
   "name": "python",
   "nbconvert_exporter": "python",
   "pygments_lexer": "ipython3",
   "version": "3.6.5"
  }
 },
 "nbformat": 4,
 "nbformat_minor": 2
}
